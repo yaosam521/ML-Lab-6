{
 "cells": [
  {
   "cell_type": "markdown",
   "id": "75980f7d-3327-4340-8d66-73fcc2744e61",
   "metadata": {},
   "source": [
    "# Lab 6 - Convolutional Neural Networks\n",
    "by Rebecca Kuhlman, Sam Yao, and Michael Amberg\n",
    "\n"
   ]
  },
  {
   "cell_type": "markdown",
   "id": "fd39dd5f-dd06-43f1-bef8-d848a1ade022",
   "metadata": {},
   "source": [
    "## Preparation"
   ]
  },
  {
   "cell_type": "markdown",
   "id": "3c2a1eb6-f1e6-4a3f-8695-ea35db15d52f",
   "metadata": {},
   "source": [
    "[1.5 points] \n",
    "Choose and explain what metric(s) you will use to evaluate your algorithm’s performance. You should give a detailed argument for why this (these) metric(s) are appropriate on your data. That is, why is the metric appropriate for the task (e.g., in terms of the business case for the task). Please note: rarely is accuracy the best evaluation metric to use. Think deeply about an appropriate measure of performance."
   ]
  },
  {
   "cell_type": "markdown",
   "id": "7357d9e8-c526-44d4-a1cc-7237de733f0c",
   "metadata": {},
   "source": [
    "Because we will be dealing with identifying brain tumors, we want to use Recall. The equation for Recall takes into account False Negatives, which would be very bad if you falsely cleared someone of brain tumors, but they did in fact have a tumor."
   ]
  },
  {
   "cell_type": "markdown",
   "id": "324c547d-94a5-43fc-ba4c-bc85beff2860",
   "metadata": {},
   "source": [
    "[1.5 points] Choose the method you will use for dividing your data into training and testing (i.e., are you using Stratified 10-fold cross validation? Shuffle splits? Why?). Explain why your chosen method is appropriate or use more than one method as appropriate. Convince me that your cross validation method is a realistic mirroring of how an algorithm would be used in practice."
   ]
  },
  {
   "cell_type": "markdown",
   "id": "53079ff1-9b88-4009-9e8a-47e6a59aa65a",
   "metadata": {},
   "source": [
    "We could try Stratified 10 k-fold validation, because it seemed to be effective from the results we had in the last lab. I have no idea if this would extend to image data, but we could give it a try."
   ]
  },
  {
   "cell_type": "markdown",
   "id": "8a202e22-7402-4b36-bfff-0d9ff1be7e56",
   "metadata": {},
   "source": [
    "## Modeling"
   ]
  },
  {
   "cell_type": "markdown",
   "id": "2b76140d-5556-429a-84e7-2f7b507f4be0",
   "metadata": {},
   "source": [
    "[1.5 points]  Setup the training to use data expansion in Keras (also called data augmentation). Explain why the chosen data expansion techniques are appropriate for your dataset. You can use the keras ImageGenerator as a pre-processing step OR in the optimization loop. You can also use the Keras-cv augmenter (a separate package: https://keras.io/keras_cv/ Links to an external site.)"
   ]
  },
  {
   "cell_type": "code",
   "execution_count": null,
   "id": "fa1c8391-544a-4d35-8b87-673f9e17aa44",
   "metadata": {},
   "outputs": [],
   "source": [
    "import "
   ]
  }
 ],
 "metadata": {
  "kernelspec": {
   "display_name": "Python 3 (ipykernel)",
   "language": "python",
   "name": "python3"
  },
  "language_info": {
   "codemirror_mode": {
    "name": "ipython",
    "version": 3
   },
   "file_extension": ".py",
   "mimetype": "text/x-python",
   "name": "python",
   "nbconvert_exporter": "python",
   "pygments_lexer": "ipython3",
   "version": "3.9.16"
  }
 },
 "nbformat": 4,
 "nbformat_minor": 5
}
