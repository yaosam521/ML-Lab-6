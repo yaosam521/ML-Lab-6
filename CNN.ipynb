{
 "cells": [
  {
   "cell_type": "markdown",
   "id": "75980f7d-3327-4340-8d66-73fcc2744e61",
   "metadata": {},
   "source": [
    "# Lab 6 - Convolutional Neural Networks\n",
    "by Rebecca Kuhlman, Sam Yao, and Michael Amberg\n",
    "\n"
   ]
  },
  {
   "cell_type": "markdown",
   "id": "3c2a1eb6-f1e6-4a3f-8695-ea35db15d52f",
   "metadata": {},
   "source": [
    "[1.5 points] \n",
    "Choose and explain what metric(s) you will use to evaluate your algorithm’s performance. You should give a detailed argument for why this (these) metric(s) are appropriate on your data. That is, why is the metric appropriate for the task (e.g., in terms of the business case for the task). Please note: rarely is accuracy the best evaluation metric to use. Think deeply about an appropriate measure of performance."
   ]
  },
  {
   "cell_type": "markdown",
   "id": "7357d9e8-c526-44d4-a1cc-7237de733f0c",
   "metadata": {},
   "source": [
    "Because we will be dealing with identifying brain tumors, we want to use Recall. The equation for Recall takes into account False Negatives, which would be very bad if you falsely cleared someone of brain tumors, while not "
   ]
  }
 ],
 "metadata": {
  "kernelspec": {
   "display_name": "Python 3 (ipykernel)",
   "language": "python",
   "name": "python3"
  },
  "language_info": {
   "codemirror_mode": {
    "name": "ipython",
    "version": 3
   },
   "file_extension": ".py",
   "mimetype": "text/x-python",
   "name": "python",
   "nbconvert_exporter": "python",
   "pygments_lexer": "ipython3",
   "version": "3.9.16"
  }
 },
 "nbformat": 4,
 "nbformat_minor": 5
}
